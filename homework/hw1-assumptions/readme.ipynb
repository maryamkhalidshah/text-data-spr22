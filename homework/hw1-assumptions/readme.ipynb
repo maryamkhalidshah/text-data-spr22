{
 "cells": [
  {
   "cell_type": "markdown",
   "id": "651bc5aa",
   "metadata": {},
   "source": [
    "# Homework: _State Your Assumptions_ \n",
    "\n",
    "> POLONIUS\\\n",
    "> _What do you read, my lord?_\n",
    "> \n",
    "> HAMLET\\\n",
    "> _Words, words, words_\n",
    "> \n",
    ">  -- _Hamlet_, Act 2, Scene 2\n",
    "\n",
    "This homework deals with the assumptions made when taking text from its original \"raw\" form into something more _computable_.\n",
    "\n",
    "- Assumptions about the _shape_ of text (e.g. how to break a corpus into documents)\n",
    "- Assumptions about what makes a _token_, an _entity_, etc. \n",
    "- Assumptions about what interesting or important _content_ looks like, and how that informs our analyses.\n",
    "\n",
    "\n",
    "There are three parts: \n",
    "1. Splitting Lines from Shakespeare\n",
    "2. Tokenizing and Aligning lines into plays\n",
    "3. Assessing and comparing characters from within each play\n",
    "\n",
    "**NB**\\\n",
    "This file is merely a _template_, with instructions; do not feel constrained to using it directly if you do not wish to. "
   ]
  },
  {
   "cell_type": "markdown",
   "id": "ef036c54",
   "metadata": {},
   "source": [
    "## Get the Data\n",
    "\n",
    "Since the class uses `dvc`, it is possible to get this dataset either using the command line (e.g. `dvc import https://github.com/TLP-COI/text-data-course resources/data/shakespeare/shakespeare.txt`), or using the python api (if you wish to use python)"
   ]
  },
  {
   "cell_type": "code",
   "execution_count": 7,
   "id": "55dc4b66",
   "metadata": {},
   "outputs": [
    {
     "name": "stdout",
     "output_type": "stream",
     "text": [
      "First Citizen:\n",
      "Before we proceed any further, hear me speak.\n",
      "\n",
      "All:\n",
      "Speak, speak.\n",
      "\n",
      "First Citizen:\n",
      "You are all resolved rather to die than to famish?\n",
      "\n",
      "All:\n",
      "Resolved. resolved.\n",
      "\n",
      "First Citizen:\n",
      "First, you know Caius Marcius is chief enemy to the people.\n",
      "\n"
     ]
    }
   ],
   "source": [
    "from dvc.api import read,get_url\n",
    "import pandas as pd\n",
    "\n",
    "txt = read('resources/data/shakespeare/shakespeare.txt', \n",
    "           repo='https://github.com/TLP-COI/text-data-course')\n",
    "\n",
    "print(txt[:250])"
   ]
  },
  {
   "cell_type": "markdown",
   "id": "d401c296",
   "metadata": {},
   "source": [
    "Make sure this works before you continue! \n",
    "Either way, it would likely be beneficial to have the data downloaded locally to keep from needing to re-dowload it every time. "
   ]
  },
  {
   "cell_type": "markdown",
   "id": "2df1b6c1",
   "metadata": {},
   "source": [
    "## Part 1\n",
    "\n",
    "Split the text file into a _table_, such that \n",
    "- each row is a single _line_ of dialogue\n",
    "- there are columns for\n",
    "  1. the speaker\n",
    "  1. the line number\n",
    "  1. the line dialogue (the text)\n",
    "\n",
    "_Hint_: you will need to use RegEx to do this rapidly. See the in-class \"markdown\" example!\n",
    "\n",
    "Question(s): \n",
    "- What assumptions have you made about the text that allowed you to do this? "
   ]
  },
  {
   "cell_type": "markdown",
   "id": "63f90931",
   "metadata": {},
   "source": [
    "## Part 2\n",
    "\n",
    "You have likely noticed that the lines are not all from the same play!\n",
    "Now, we will add some useful metadata to our table: \n",
    "\n",
    "- Determine a likely source title for each line\n",
    "- add the title as a 'play' column in the data table. \n",
    "- make sure to document your decisions, assumptions, external data sources, etc. \n",
    "\n",
    "This is fairly open-ended, and you are not being judged completely on _accuracy_. \n",
    "Instead, think outside the box a bit as to how you might accomplish this, and attempt to justify whatever approximations or assumptions you felt were appropriate. "
   ]
  },
  {
   "cell_type": "markdown",
   "id": "94143fd5",
   "metadata": {},
   "source": [
    "## Part 3\n",
    "\n",
    "Pick one or more of the techniques described in this chapter: \n",
    "\n",
    "- keyword frequency\n",
    "- entity relationships\n",
    "- markov language model\n",
    "- bag-of-words, TF-IDF\n",
    "- semantic embedding\n",
    "\n",
    "make a case for a technique to measure how _important_ or _interesting_ a speaker is. \n",
    "The measure does not have to be both important _and_ interesting, and you are welcome to come up with another term that represents \"useful content\", or tells a story (happiest speaker, worst speaker, etc.)\n",
    "\n",
    "Whatever you choose, you must\n",
    "1. document how your technique was applied\n",
    "2. describe why you believe the technique is a valid approximation or exploration of how important, interesting, etc., a speaker is. \n",
    "3. list some possible weaknesses of your method, or ways you expect your assumptions could be violated within the text. \n",
    "\n",
    "This is mostly about learning to transparently document your decisions, and iterate on a method for operationalizing useful analyses on text. \n",
    "Your explanations should be understandable; homeworks will be peer-reviewed by your fellow students. \n"
   ]
  },
  {
   "cell_type": "code",
   "execution_count": null,
   "id": "3da7432c",
   "metadata": {},
   "outputs": [],
   "source": []
  }
 ],
 "metadata": {
  "jupytext": {
   "formats": "ipynb,md:myst"
  },
  "kernelspec": {
   "display_name": "Python [conda env:text-data-class]",
   "language": "python",
   "name": "conda-env-text-data-class-py"
  },
  "language_info": {
   "codemirror_mode": {
    "name": "ipython",
    "version": 3
   },
   "file_extension": ".py",
   "mimetype": "text/x-python",
   "name": "python",
   "nbconvert_exporter": "python",
   "pygments_lexer": "ipython3",
   "version": "3.9.10"
  }
 },
 "nbformat": 4,
 "nbformat_minor": 5
}
